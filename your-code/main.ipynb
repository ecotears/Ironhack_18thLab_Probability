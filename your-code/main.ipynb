{
 "cells": [
  {
   "cell_type": "markdown",
   "metadata": {},
   "source": [
    "# Probability"
   ]
  },
  {
   "cell_type": "markdown",
   "metadata": {},
   "source": [
    "## Reto 1\n",
    "Hay una caja con 10 bolas blancas, 12 bolas rojas y 8 bolas negras. Calcula la probabilidad de:\n",
    "* Sacar una bola blanca.\n",
    "* Sacar una bola blanca en la primera extracción y una bola negra en la segunda extracción sin reemplazar la primera.\n",
    "* Sacar una bola blanca en la primera extracción y una bola negra en la segunda extracción reemplazando la primera.\n",
    "* Sacar 3 bolas y que sean todas de diferentes colores."
   ]
  },
  {
   "cell_type": "code",
   "execution_count": 9,
   "metadata": {},
   "outputs": [
    {
     "name": "stdout",
     "output_type": "stream",
     "text": [
      "Probability of getting a white ball is 0.3333333333333333\n",
      "Probability of getting a black ball after getting white (without substituting) is 0.09195402298850575\n",
      "now events are independent, probability is 0.08888888888888888\n",
      "Probability of getting 3 different balls is: 0.8669950738916257\n",
      "0.041050903119868636, 0.021018062397372743, 0.07093596059113302\n"
     ]
    }
   ],
   "source": [
    "Total_outcomes = 10 + 12 + 8\n",
    "\n",
    "# Sacar una bola blanca.\n",
    "P_White = 10/Total_outcomes\n",
    "print(f'Probability of getting a white ball is {P_White}' )\n",
    "\n",
    "# Sacar una bola blanca en la primera extracción y una bola negra en la segunda extracción sin reemplazar la primera.\n",
    "P_Black_given_W = 8/(Total_outcomes-1)\n",
    "P_W_inter_B = P_White * P_Black_given_W\n",
    "\n",
    "# P(W inter B) = P(W) * P(B given A)\n",
    "\n",
    "print(f'Probability of getting a black ball after getting white (without substituting) is {P_W_inter_B}')\n",
    "\n",
    "# Sacar una bola blanca en la primera extracción y una bola negra en la segunda extracción reemplazando la primera.\n",
    "P_Black = 8/Total_outcomes\n",
    "P_W_inter_B_Substituting = P_White * P_Black\n",
    "print(f'now events are independent, probability is {P_W_inter_B_Substituting}')\n",
    "\n",
    "# Sacar 3 bolas y que sean todas de diferentes colores.\n",
    "\n",
    "P_W_W_W = 10/Total_outcomes * 9/(Total_outcomes-1) * 8/(Total_outcomes-2)\n",
    "P_B_B_B = 8/Total_outcomes * 7/(Total_outcomes-1) * 6/(Total_outcomes-2) \n",
    "P_R_R_R = 12/Total_outcomes * 11/(Total_outcomes-1) * 10/(Total_outcomes-2)    \n",
    "\n",
    "P_notsame_notsame_notsame = 1 - (P_W_W_W + P_B_B_B + P_R_R_R)\n",
    "\n",
    "print(f'Probability of getting 3 different balls is: {P_notsame_notsame_notsame}')\n",
    "\n",
    "print(f'{P_W_W_W}, {P_B_B_B}, {P_R_R_R}')\n",
    "\n"
   ]
  },
  {
   "cell_type": "code",
   "execution_count": 18,
   "metadata": {},
   "outputs": [
    {
     "name": "stdout",
     "output_type": "stream",
     "text": [
      "0.23645320197044334\n"
     ]
    }
   ],
   "source": [
    "# Sacar 3 bolas y que sean todas de diferentes colores. Alternativa (no da lo mismo?)\n",
    "import math\n",
    "\n",
    "def binomial_coefficient (n,k):\n",
    "   return math.factorial(n) / (math.factorial(k) * (math.factorial(n-k)))\n",
    "\n",
    "total_possibilities_balls = binomial_coefficient (30,3)\n",
    "\n",
    "print((12*10*8)/total_possibilities_balls)"
   ]
  },
  {
   "cell_type": "markdown",
   "metadata": {},
   "source": [
    "## Reto 2\n",
    "\n",
    "Quieres ir de picnic el sábado. Odias la lluvia y quieres planificar tu fin de semana. Para ayudarte a tomar una decisión, recopilas los siguientes datos sobre los días lluviosos:\n",
    "\n",
    "* El 40% de todos los días están nublados.\n",
    "* Aproximadamente el 50% de los días nublados son lluviosos.\n",
    "* Aproximadamente el 20% de los días no nublados son lluviosos.\n",
    "\n",
    "¿Cuál es la probabilidad de que llueva el próximo sábado?"
   ]
  },
  {
   "cell_type": "code",
   "execution_count": 22,
   "metadata": {},
   "outputs": [
    {
     "name": "stdout",
     "output_type": "stream",
     "text": [
      "0.32\n"
     ]
    }
   ],
   "source": [
    "p_cloudy = 0.4\n",
    "p_rainy_givencloudy = 0.5\n",
    "p_rainy_givenNotCloudy = 0.2\n",
    "\n",
    "#Using total probability law, we can deduce that P(Rain) is just:\n",
    "# P(rain) = P(R inter C) + P(R inter NotC) \n",
    "\n",
    "p_rain = (p_rainy_givencloudy)*p_cloudy + p_rainy_givenNotCloudy*(1-p_cloudy)\n",
    "\n",
    "print(p_rain)"
   ]
  },
  {
   "cell_type": "markdown",
   "metadata": {},
   "source": [
    "## Reto 3\n",
    "\n",
    "A y B son eventos de una probabilidad tal que \\(P(A) = 0.3\\), \\(P(B) = 0.6\\) y \\(P(A \\cap B) = 0.1\\)\n",
    "\n",
    "¿Cuáles de las siguientes afirmaciones son verdaderas?\n",
    "**SUGERENCIA: dibuja un gran diagrama de Venn a tu lado**\n",
    "* \\(P(\\overline{A}) = 0.7\\)\n",
    "* \\(P(A \\cup B) = 0.6\\)\n",
    "* \\(P(A \\cap \\overline{B}) = 0.2\\)\n",
    "* \\(P(A \\cup \\overline{A}) = 1\\)  \n",
    "* \\(P(A \\cap (B \\cup \\overline{B})) = 0.4\\)\n",
    "* \\(P(\\overline{A} \\cap \\overline{B}) = 0.3\\)\n",
    "* \\(P(\\overline{A \\cap B}) = 0.9\\)"
   ]
  },
  {
   "cell_type": "code",
   "execution_count": 71,
   "metadata": {},
   "outputs": [],
   "source": [
    "# Solution below "
   ]
  },
  {
   "cell_type": "markdown",
   "metadata": {},
   "source": [
    "* \\(P(\\overline{A}) = 0.7\\) --> **True** as 1-P(A) = 1-0.3 = 0.7\n",
    "* \\(P(A \\cup B) = 0.6\\) --> **False** AUB does not return 0.6\n",
    "* \\(P(A \\cap \\overline{B}) = 0.2\\) --> **True** P(A) - P(A inter B) = 0.3 - 0.1 = 0.2\n",
    "* \\(P(A \\cup \\overline{A}) = 1\\) --> **True** as P(A) + P(1-A) = 1\n",
    "* \\(P(A \\cap (B \\cup \\overline{B})) = 0.4\\) --> **False** should be 0.3 as P(A)*1 = 0.3\n",
    "* \\(P(\\overline{A} \\cap \\overline{B}) = 0.3\\) --> **False** Ley de Morgan, it is equal to P(overlineAUB) = 1-P(AUB) --> 1-(0.9) or 1-0.8 (if not mutually exclusive) = 0.1\n",
    "* \\(P(\\overline{A \\cap B}) = 0.9\\) = **True** as 1-0.1 = 0.9"
   ]
  },
  {
   "cell_type": "markdown",
   "metadata": {},
   "source": [
    "## Reto 4\n",
    "\n",
    "* Si alguien viaja a China, la probabilidad de contraer Covid es del 1%\n",
    "* Si alguien viaja a Italia, la probabilidad de contraer Covid es del 20%\n",
    "\n",
    "Lanzo un dado con números 1, 2, 3, 4, 5, 6:\n",
    "* Si sale 1: Vuelo a Italia\n",
    "* Si no sale 1: Vuelo a China\n",
    "\n",
    "Durante mi viaje, contraje Covid. ¿Cuál es la probabilidad de que haya volado a China?"
   ]
  },
  {
   "cell_type": "code",
   "execution_count": 24,
   "metadata": {},
   "outputs": [
    {
     "name": "stdout",
     "output_type": "stream",
     "text": [
      "0.2\n"
     ]
    }
   ],
   "source": [
    "# P(C|CN) = 0.01\n",
    "# P(C|I) = 0.2\n",
    "# P(I) = 1/6\n",
    "# P(CN) = 5/6\n",
    "# What is the probability of P(CN|C)? \n",
    "\n",
    "# P(CN|C) = P(CN∩C) / P(C) -->  P(C|CN)*P(CN)/ P(C∩CN) + P(C∩NotCN) --> P(C|CN)*P(CN)/ P(C|CN)*P(CN) + P(I) * P(C|I)\n",
    "\n",
    "P_CN_given_COVID = 0.01 *(5/6) / (0.01*(5/6) + (1/6)*0.2)\n",
    "\n",
    "print(P_CN_given_COVID)"
   ]
  },
  {
   "cell_type": "markdown",
   "metadata": {},
   "source": [
    "## BONUS\n",
    "\n",
    "Lanzas 2 dados. ¿Cuál es la probabilidad de que la suma de los números sea 7? ¿Y 8? ¿Y 9? Luego simula 10000 veces y dibuja un gráfico de conteo.\n",
    "\n",
    "tu explicación aquí"
   ]
  },
  {
   "cell_type": "code",
   "execution_count": 31,
   "metadata": {},
   "outputs": [
    {
     "name": "stdout",
     "output_type": "stream",
     "text": [
      "The total amount of possible dice outcomes is: 36.0\n",
      "probabilities are 0.16666666666666666,0.1388888888888889,0.1111111111111111\n"
     ]
    }
   ],
   "source": [
    "possible_dice = binomial_coefficient(6,1) * binomial_coefficient(6,1)\n",
    "\n",
    "print(f'The total amount of possible dice outcomes is: {possible_dice}')\n",
    "\n",
    "favourable_outcomes_7 = 0\n",
    "favourable_outcomes_8 = 0\n",
    "favourable_outcomes_9 = 0\n",
    " \n",
    "for dice2_roll in range (1,7):\n",
    "    for dice1_roll in range(1,7):\n",
    "        if dice2_roll + dice1_roll == 7:\n",
    "            favourable_outcomes_7 += 1\n",
    "\n",
    "for dice2_roll in range (1,7):\n",
    "    for dice1_roll in range(1,7):\n",
    "        if dice2_roll + dice1_roll == 8:\n",
    "            favourable_outcomes_8 += 1\n",
    "\n",
    "for dice2_roll in range (1,7):\n",
    "    for dice1_roll in range(1,7):\n",
    "        if dice2_roll + dice1_roll == 9:\n",
    "            favourable_outcomes_9 += 1\n",
    "\n",
    "\n",
    "prob_7 = favourable_outcomes_7/possible_dice\n",
    "prob_8 = favourable_outcomes_8/possible_dice\n",
    "prob_9 = favourable_outcomes_9/possible_dice\n",
    "\n",
    "print(f'probabilities are {prob_7},{prob_8},{prob_9}')"
   ]
  },
  {
   "cell_type": "code",
   "execution_count": 40,
   "metadata": {},
   "outputs": [],
   "source": [
    "#Simulations\n",
    "import numpy as np\n",
    "import matplotlib.pyplot as plt\n",
    "import seaborn as sns\n",
    "\n",
    "\n",
    "n_simulations = 10000\n",
    "numbers_simulation_list = []\n",
    "\n",
    "for simulation in range(1,n_simulations+1):\n",
    "    numbers_simulation_list.append(np.random.randint(1,7,2).sum())\n",
    "\n",
    "\n"
   ]
  },
  {
   "cell_type": "code",
   "execution_count": 70,
   "metadata": {},
   "outputs": [
    {
     "data": {
      "image/png": "[encoded data removed]",
      "text/plain": [
       "<Figure size 1200x600 with 1 Axes>"
      ]
     },
     "metadata": {},
     "output_type": "display_data"
    },
    {
     "name": "stdout",
     "output_type": "stream",
     "text": [
      "Final comparison:\n",
      "      Theoretical probability for 7 is 0.16666666666666666 vs simulated 0.1618,\n",
      "      Theoretical probability for 8 is 0.1388888888888889 vs simulated 0.1401,\n",
      "      Theoretical probability for 9 is 0.1111111111111111 vs simulated 0.1122\n"
     ]
    }
   ],
   "source": [
    "plt.figure(figsize=(12,6))\n",
    "# sns.barplot(numbers_simulation_list, palette='Blues')\n",
    "sns.histplot(numbers_simulation_list, bins=range(min(numbers_simulation_list), max(numbers_simulation_list)+1), kde=False, color='Blue')\n",
    "plt.show()\n",
    "\n",
    "manysimulations_probability_7 = numbers_simulation_list.count(7)/len(numbers_simulation_list)\n",
    "manysimulations_probability_8 = numbers_simulation_list.count(8)/len(numbers_simulation_list)\n",
    "manysimulations_probability_9 = numbers_simulation_list.count(9)/len(numbers_simulation_list)\n",
    "\n",
    "print(f'''Final comparison:\n",
    "      Theoretical probability for 7 is {prob_7} vs simulated {manysimulations_probability_7},\n",
    "      Theoretical probability for 8 is {prob_8} vs simulated {manysimulations_probability_8},\n",
    "      Theoretical probability for 9 is {prob_9} vs simulated {manysimulations_probability_9}''')"
   ]
  }
 ],
 "metadata": {
  "kernelspec": {
   "display_name": "Python 3 (ipykernel)",
   "language": "python",
   "name": "python3"
  },
  "language_info": {
   "codemirror_mode": {
    "name": "ipython",
    "version": 3
   },
   "file_extension": ".py",
   "mimetype": "text/x-python",
   "name": "python",
   "nbconvert_exporter": "python",
   "pygments_lexer": "ipython3",
   "version": "3.10.12"
  },
  "toc": {
   "base_numbering": 1,
   "nav_menu": {},
   "number_sections": false,
   "sideBar": true,
   "skip_h1_title": false,
   "title_cell": "Table of Contents",
   "title_sidebar": "Contents",
   "toc_cell": false,
   "toc_position": {
    "height": "calc(100% - 180px)",
    "left": "10px",
    "top": "150px",
    "width": "296.475px"
   },
   "toc_section_display": true,
   "toc_window_display": false
  },
  "varInspector": {
   "cols": {
    "lenName": 16,
    "lenType": 16,
    "lenVar": 40
   },
   "kernels_config": {
    "python": {
     "delete_cmd_postfix": "",
     "delete_cmd_prefix": "del ",
     "library": "var_list.py",
     "varRefreshCmd": "print(var_dic_list())"
    },
    "r": {
     "delete_cmd_postfix": ") ",
     "delete_cmd_prefix": "rm(",
     "library": "var_list.r",
     "varRefreshCmd": "cat(var_dic_list()) "
    }
   },
   "types_to_exclude": [
    "module",
    "function",
    "builtin_function_or_method",
    "instance",
    "_Feature"
   ],
   "window_display": false
  }
 },
 "nbformat": 4,
 "nbformat_minor": 2
}
